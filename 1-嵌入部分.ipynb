{
 "cells": [
  {
   "cell_type": "markdown",
   "id": "45231bda-4dbf-4a79-86fa-2ae863067ff0",
   "metadata": {},
   "source": [
    "## 设置headers"
   ]
  },
  {
   "cell_type": "markdown",
   "id": "91dcb26c-b02f-4d31-93d4-f9875b58b087",
   "metadata": {},
   "source": [
    "### 注意请您自行于siliconflow上申请API接口并填入后运行"
   ]
  },
  {
   "cell_type": "code",
   "execution_count": null,
   "id": "1c6cac36-16e0-400e-8b9f-2b310e589283",
   "metadata": {},
   "outputs": [],
   "source": [
    "headers = {\n",
    "    \"Authorization\": \"Bearer <your api>\",\n",
    "    \"Content-Type\": \"application/json\"\n",
    "}"
   ]
  },
  {
   "cell_type": "markdown",
   "id": "e821268f-50d9-46d6-9be2-7cc419ff3be1",
   "metadata": {},
   "source": [
    "## 按照100条为一组进行嵌入"
   ]
  },
  {
   "cell_type": "markdown",
   "id": "649397bb-79eb-4a2b-9785-f0f5ebcde790",
   "metadata": {},
   "source": [
    "### 需要修改读取、导出文件的地址"
   ]
  },
  {
   "cell_type": "code",
   "execution_count": null,
   "id": "041cfbce-0ed9-4434-a951-125c27398223",
   "metadata": {},
   "outputs": [],
   "source": [
    "import pandas as pd\n",
    "import requests\n",
    "import json\n",
    "import time\n",
    "\n",
    "# 读取CSV文件\n",
    "df = pd.read_csv('processed_data.csv')\n",
    "\n",
    "# API相关参数\n",
    "url = \"https://api.siliconflow.cn/v1/embeddings\"\n",
    "\n",
    "\n",
    "# 存储嵌入结果和失败的文档\n",
    "success_results = []\n",
    "failed_keys = []\n",
    "\n",
    "# 批量处理，每次最多处理batch_size个文档\n",
    "batch_size = 50  # 根据实际情况调整\n",
    "for start_idx in range(0, len(df), batch_size):\n",
    "    # 取出当前批次的文档\n",
    "    batch_df = df.iloc[start_idx:start_idx + batch_size]\n",
    "    \n",
    "    # 将当前批次的所有文档内容组合成一个字符串数组\n",
    "    input_texts = batch_df['content_cutted'].tolist()\n",
    "    \n",
    "    payload = {\n",
    "        \"model\": \"Qwen/Qwen3-Embedding-8B\",\n",
    "        \"input\": input_texts\n",
    "    }\n",
    "\n",
    "    try:\n",
    "        # 发送API请求\n",
    "        response = requests.post(url, json=payload, headers=headers)\n",
    "        response_data = response.json()\n",
    "\n",
    "        # 检查API响应的状态\n",
    "        if response.status_code == 200 and 'data' in response_data:\n",
    "            # 提取嵌入数据\n",
    "            embeddings = [item['embedding'] for item in response_data['data']]\n",
    "            for key, embedding in zip(batch_df['key'], embeddings):\n",
    "                success_results.append({\"key\": key, \"embedding\": embedding})\n",
    "            print(f\"成功处理批次: {start_idx}-{start_idx + batch_size - 1}\")  # 仅输出当前批次的范围\n",
    "        else:\n",
    "            # 如果没有成功嵌入，记录失败\n",
    "            failed_keys.extend(batch_df['key'].tolist())\n",
    "            print(f\"处理失败批次: {start_idx}-{start_idx + batch_size - 1}, 错误信息: {response_data}\")\n",
    "    \n",
    "    except Exception as e:\n",
    "        # 处理请求异常\n",
    "        failed_keys.extend(batch_df['key'].tolist())\n",
    "        print(f\"请求失败批次: {start_idx}-{start_idx + batch_size - 1}, 错误信息: {str(e)}\")\n",
    "    \n",
    "    # 每个请求完成后，稍微休息一下，避免频繁请求导致API限流\n",
    "    time.sleep(1)\n",
    "    \n",
    "    # 每批次处理完后，将成功的结果写入文件\n",
    "    with open('/embedding_results.json', 'a') as f:\n",
    "        for result in success_results:\n",
    "            f.write(json.dumps(result) + '\\n')\n",
    "    \n",
    "    # 清空成功结果列表，准备下一个批次\n",
    "    success_results = []\n",
    "\n",
    "# 处理完所有批次后，输出失败的文档key（简化输出，只显示失败的文档数量）\n",
    "if failed_keys:\n",
    "    print(f\"处理失败的文档数量: {len(failed_keys)}\")\n",
    "else:\n",
    "    print(\"所有文档均已成功处理！\")\n",
    "\n",
    "print(\"嵌入处理完毕，失败的文档key已输出。\")"
   ]
  }
 ],
 "metadata": {
  "kernelspec": {
   "display_name": "Python 3 (ipykernel)",
   "language": "python",
   "name": "python3"
  },
  "language_info": {
   "codemirror_mode": {
    "name": "ipython",
    "version": 3
   },
   "file_extension": ".py",
   "mimetype": "text/x-python",
   "name": "python",
   "nbconvert_exporter": "python",
   "pygments_lexer": "ipython3",
   "version": "3.10.16"
  }
 },
 "nbformat": 4,
 "nbformat_minor": 5
}
